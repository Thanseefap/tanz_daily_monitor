{
 "cells": [
  {
   "cell_type": "code",
   "execution_count": 1,
   "metadata": {},
   "outputs": [
    {
     "name": "stderr",
     "output_type": "stream",
     "text": [
      "DEBUG:NorenRestApiPy.NorenApi:https://api.shoonya.com/NorenWClientTP//QuickAuth\n",
      "DEBUG:NorenRestApiPy.NorenApi:Req:jData={\"source\": \"API\", \"apkversion\": \"1.0.0\", \"uid\": \"FA127352\", \"pwd\": \"9234f0961af68dafaf5dbcda65600b3f2126756abaf4f476d822713d28640a85\", \"factor2\": \"523143\", \"vc\": \"FA127352_U\", \"appkey\": \"82366f489b8ead351eaef28ee5f9524facfc00d230b3c166400585e3c03b5843\", \"imei\": \"60-45-CB-C5-A7-49\"}\n",
      "INFO:requests.packages.urllib3.connectionpool:Starting new HTTPS connection (1): api.shoonya.com\n",
      "DEBUG:requests.packages.urllib3.connectionpool:\"POST /NorenWClientTP//QuickAuth HTTP/1.1\" 200 1749\n",
      "DEBUG:NorenRestApiPy.NorenApi:Reply:{\"request_time\":\"23:52:17 07-08-2023\",\"actid\":\"FA127352\",\"access_type\":[\"WEB\",\"TT\",\"MOB\",\"API\"],\"uname\":\"KILIYANKANDI AKHIN\",\"prarr\":[{\"prd\":\"C\",\"s_prdt_ali\":\"CNC\",\"exch\":[\"NSE\",\"BSE\",\"NIPO\",\"BSTAR\"]},{\"prd\":\"M\",\"s_prdt_ali\":\"NRML\",\"exch\":[\"NFO\",\"CDS\",\"BCD\"]},{\"prd\":\"I\",\"s_prdt_ali\":\"MIS\",\"exch\":[\"NSE\",\"BSE\",\"NFO\",\"CDS\",\"BCD\"]},{\"prd\":\"H\",\"s_prdt_ali\":\"CO\",\"exch\":[\"NSE\",\"NFO\",\"CDS\",\"BSE\"]},{\"prd\":\"B\",\"s_prdt_ali\":\"BO\",\"exch\":[\"NSE\",\"NFO\",\"CDS\",\"BSE\"]}],\"stat\":\"Ok\",\"susertoken\":\"064e824a02c0fa35ee08b7edb83452d8e57a29c6405ab1de45b60070452a1bfd\",\"email\":\"theimperfecttraderr@gmail.com\",\"uid\":\"FA127352\",\"brnchid\":\"HO\",\"totp_set\":\"1\",\"orarr\":[\"MKT\",\"LMT\",\"SL-LMT\",\"SL-MKT\"],\"exarr\":[\"NSE\",\"NIPO\",\"NFO\",\"CDS\",\"BSE\",\"BCD\",\"BSTAR\"],\"values\":[\"1\"],\"mws\":{\"1\":[{\"exch\":\"NFO\",\"token\":\"39950\",\"tsym\":\"FINNIFTY29AUG23F\",\"dname\":\"FINNIFTY 29AUG FUT \",\"instname\":\"FUTIDX\",\"pp\":\"2\",\"ls\":\"40\",\"ti\":\"0.05\",\"optt\":\"XX\"},{\"exch\":\"NFO\",\"token\":\"60506\",\"tsym\":\"BANKNIFTY31AUG23P45500\",\"dname\":\"BANKNIFTY 31AUG23 45500 PE \",\"instname\":\"OPTIDX\",\"pp\":\"2\",\"ls\":\"15\",\"ti\":\"0.05\",\"optt\":\"PE\"},{\"exch\":\"NFO\",\"token\":\"61066\",\"tsym\":\"BANKNIFTY31AUG23C47000\",\"dname\":\"BANKNIFTY 31AUG23 47000 CE \",\"instname\":\"OPTIDX\",\"pp\":\"2\",\"ls\":\"15\",\"ti\":\"0.05\",\"optt\":\"CE\"},{\"exch\":\"NFO\",\"token\":\"35014\",\"tsym\":\"BANKNIFTY31AUG23F\",\"dname\":\"BANKNIFTY AUG FUT\",\"instname\":\"FUTIDX\",\"pp\":\"2\",\"ls\":\"15\",\"ti\":\"0.05\",\"optt\":\"XX\"},{\"exch\":\"NSE\",\"token\":\"1927\",\"tsym\":\"LIQUIDETF-EQ\",\"instname\":\"EQ\",\"pp\":\"2\",\"ls\":\"1\",\"ti\":\"0.01\"},{\"exch\":\"BSE\",\"token\":\"541097\",\"tsym\":\"LIQUIDETF\",\"instname\":\"F\",\"pp\":\"2\",\"ls\":\"1\",\"ti\":\"0.01\"},{\"exch\":\"NSE\",\"token\":\"26037\",\"tsym\":\"Nifty Fin Service\",\"instname\":\"UNDIND\",\"pp\":\"2\",\"ls\":\"1\",\"ti\":\"0.05\",\"nontrd\":\"1\"}]},\"brkname\":\"FINV\",\"lastaccesstime\":\"1691432537\"}\n"
     ]
    },
    {
     "name": "stdout",
     "output_type": "stream",
     "text": [
      "Logged In.\n"
     ]
    }
   ],
   "source": [
    "from NorenRestApiPy.NorenApi import  NorenApi\n",
    "import logging\n",
    "import requests\n",
    "import json,os\n",
    "import time,datetime\n",
    "from time import sleep\n",
    "#import matplotlib.pyplot as plt\n",
    "from io import BytesIO\n",
    "import logging\n",
    "from telegram import InputMediaPhoto\n",
    "from telegram.ext import Updater, CommandHandler\n",
    "from datetime import datetime\n",
    "import telebot\n",
    "import numpy as np\n",
    "from tabulate import tabulate\n",
    "\n",
    "import pandas as pd\n",
    "from telebot import types\n",
    "from login import shoonya\n",
    "from datetime import datetime\n",
    "\n",
    "client=shoonya(twofa='523143',client_id='1')\n",
    "api=client.login()\n"
   ]
  },
  {
   "cell_type": "code",
   "execution_count": 4,
   "metadata": {},
   "outputs": [],
   "source": [
    "import sqlite3"
   ]
  }
 ],
 "metadata": {
  "kernelspec": {
   "display_name": ".venv",
   "language": "python",
   "name": "python3"
  },
  "language_info": {
   "codemirror_mode": {
    "name": "ipython",
    "version": 3
   },
   "file_extension": ".py",
   "mimetype": "text/x-python",
   "name": "python",
   "nbconvert_exporter": "python",
   "pygments_lexer": "ipython3",
   "version": "3.9.13"
  },
  "orig_nbformat": 4
 },
 "nbformat": 4,
 "nbformat_minor": 2
}
